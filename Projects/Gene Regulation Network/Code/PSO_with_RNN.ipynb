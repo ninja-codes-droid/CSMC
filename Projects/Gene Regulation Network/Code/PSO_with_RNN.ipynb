{
  "nbformat": 4,
  "nbformat_minor": 0,
  "metadata": {
    "colab": {
      "provenance": []
    },
    "kernelspec": {
      "name": "python3",
      "display_name": "Python 3"
    },
    "language_info": {
      "name": "python"
    }
  },
  "cells": [
    {
      "cell_type": "code",
      "execution_count": 1,
      "metadata": {
        "id": "b2sHu0zcazRD"
      },
      "outputs": [],
      "source": [
        "import numpy as np\n",
        "import random\n",
        "import math"
      ]
    },
    {
      "cell_type": "code",
      "source": [
        "class Particle:\n",
        "  def __init__(self,position,velocity,fitness):\n",
        "    self.position = position\n",
        "    self.velocity  = velocity\n",
        "    self.local_best_position = position\n",
        "    self.fitness = fitness\n",
        "  def update_local_best(self,local_best_position):\n",
        "    self.local_best_position = local_best_position\n",
        "  def update_fitness(self,fitness):\n",
        "    self.fitness = fitness"
      ],
      "metadata": {
        "id": "R3UjSenPj3cu"
      },
      "execution_count": 2,
      "outputs": []
    },
    {
      "cell_type": "code",
      "source": [
        "# Define the modified fitness function to calculate MSE\n",
        "def fitness_function(position):\n",
        "    # Compute the squared error for each element\n",
        "    squared_error = (position - 1) ** 2\n",
        "    # Return the mean squared error (MSE)\n",
        "    return np.mean(squared_error)"
      ],
      "metadata": {
        "id": "Rbtgyb58Da_9"
      },
      "execution_count": 3,
      "outputs": []
    },
    {
      "cell_type": "code",
      "source": [
        "def calculate_global_best(fitness,swarm_best_fitness,position,swarm_global_best_position):\n",
        "  if fitness < swarm_best_fitness:\n",
        "          swarm_best_fitness = fitness\n",
        "          swarm_global_best_position = position\n",
        "  return swarm_global_best_position,swarm_best_fitness"
      ],
      "metadata": {
        "id": "b8-NvBScJgcQ"
      },
      "execution_count": 4,
      "outputs": []
    },
    {
      "cell_type": "code",
      "source": [
        "def write_particle_data(filename, gene, particles, swarm_global_best_position, swarm_best_fitness):\n",
        "  with open(filename, 'w') as f:\n",
        "    f.write(f\"Initial values for gene :{gene}\\n\")\n",
        "    f.write(\"-\" * 30 + \"\\n\")\n",
        "    for particle in particles:\n",
        "      f.write(f\"Particle {particles.index(particle)}\\n\")\n",
        "      f.write(f\"Position: {particle.position}\\n\")\n",
        "      f.write(f\"Velocity: {particle.velocity}\\n\")\n",
        "      f.write(f\"Local Best Position: {particle.local_best_position}\\n\")\n",
        "      f.write(f\"Fitness: {particle.fitness}\\n\")\n",
        "      f.write(\"-\" * 20 + \"\\n\")\n",
        "    f.write(f\"Global Best Position: {swarm_global_best_position}\\n\")\n",
        "    f.write(f\"Global Best Fitness: {swarm_best_fitness}\\n\")\n",
        "    f.write(\"-\" * 50 + \"\\n\")"
      ],
      "metadata": {
        "id": "MrG33Yy5LWGP"
      },
      "execution_count": 8,
      "outputs": []
    },
    {
      "cell_type": "code",
      "source": [
        "def PSO(num_gene,num_particle,max_iteration,max_inertia,min_inertia,accel_factor):\n",
        "    # Store all gbest for all gene\n",
        "    gene_gbest_position =[]\n",
        "\n",
        "\n",
        "    for gene in range(num_gene):\n",
        "      particles = []    # Store all the particles\n",
        "      swarm_global_best_position = None  # Initialization of global best\n",
        "      swarm_best_fitness = float('inf')  # Initialization of fitness\n",
        "      for population in range(num_particle):\n",
        "        # Initialize position, velocity, and fitness for each particle\n",
        "        position = np.random.uniform(0,1,num_gene+2)\n",
        "        velocity = np.zeros(num_gene+2)\n",
        "        fitness = fitness_function(position)\n",
        "        # Update global best according\n",
        "        swarm_global_best_position,swarm_best_fitness = calculate_global_best(fitness,swarm_best_fitness,position,swarm_global_best_position)\n",
        "        particles.append(Particle(position,velocity,fitness))\n",
        "        \"\"\"\n",
        "        print(\"Initial values for gene\",gene)\n",
        "        for particle in particles:\n",
        "          print(f\"Position: {particle.position}\")\n",
        "          print(f\"Velocity: {particle.velocity}\")\n",
        "          print(f\"Local Best Position: {particle.local_best_position}\")\n",
        "          print(f\"Fitness: {particle.fitness}\")\n",
        "          print(\"-\" * 20)  # Separator for better readability\n",
        "        print(f\"Global Best Position: {swarm_global_best_position}\")\n",
        "        print(f\"Global Best Fitness: {swarm_best_fitness}\")\n",
        "        print(\"-\" * 50)  # Separator for better readability\n",
        "        \"\"\"\n",
        "      filename = f\"particle_data_gene_{gene}.txt\"\n",
        "      write_particle_data(filename, gene, particles, swarm_global_best_position, swarm_best_fitness)\n",
        "      for itr in range(max_iteration-1):\n",
        "        w = max_inertia - (max_inertia - min_inertia) * itr / max_iteration\n",
        "        for particle in particles:\n",
        "          r1 = random.random()\n",
        "          r2 = random.random()\n",
        "          particle.velocity = (w * particle.velocity +\n",
        "                                 accel_factor * r1 * (particle.local_best_position - particle.position) +\n",
        "                                 accel_factor * r2 * (swarm_global_best_position - particle.position))\n",
        "\n",
        "            # Update position\n",
        "          particle.position += particle.velocity\n",
        "          fitness = fitness_function(particle.position)\n",
        "          if fitness < particle.fitness:\n",
        "            particle.update_fitness(fitness)\n",
        "            particle.update_local_best(particle.position)\n",
        "          swarm_global_best_position,swarm_best_fitness = calculate_global_best(fitness,swarm_best_fitness,particle.position,swarm_global_best_position)\n",
        "      gene_gbest_position.append(swarm_global_best_position);\n",
        "    gbest_matrix = np.array(gene_gbest_position)\n",
        "    # Extract the first N elements from each row to get an N x N matrix\n",
        "    fij_matrix = gbest_matrix[:, :num_gene]\n",
        "    return fij_matrix"
      ],
      "metadata": {
        "id": "rbaL2dCxgJnR"
      },
      "execution_count": 6,
      "outputs": []
    },
    {
      "cell_type": "code",
      "source": [
        "if __name__ == '__main__':\n",
        "  num_gene = 8\n",
        "  num_regulator = 4\n",
        "  num_particle = math.comb(num_gene,num_regulator)\n",
        "  max_iteration = 10\n",
        "  max_inertia = 0.9\n",
        "  min_inertia = 0.4\n",
        "  accel_factor = 2  # c1 = c2 = 2\n",
        "  result_matrix = PSO(num_gene, num_particle, max_iteration, max_inertia, min_inertia, accel_factor)\n",
        "\n",
        "  print(\"Final N x N matrix [fij]:\")\n",
        "  for row in result_matrix:\n",
        "    for element in row:\n",
        "      print(\"{:.10f}\".format(element), end=\"    \")\n",
        "    print()\n",
        "    print()"
      ],
      "metadata": {
        "colab": {
          "base_uri": "https://localhost:8080/"
        },
        "id": "a3Ld-GZafHkp",
        "outputId": "340224f2-be12-4724-ae2d-0b56476194f2"
      },
      "execution_count": 12,
      "outputs": [
        {
          "output_type": "stream",
          "name": "stdout",
          "text": [
            "Final N x N matrix [fij]:\n",
            "2.2687294918    3.1445207630    3.5298066242    1.0147506200    1.2672155101    0.9848346325    1.5904262631    -0.1553476859    \n",
            "\n",
            "1.7198516615    2.0428344879    0.5956008871    1.4254079856    1.7807956638    2.9344984794    1.4128426682    1.9870300444    \n",
            "\n",
            "-0.0462659830    1.0022023313    2.0013557878    0.0737356219    0.8260641463    -0.4611917957    -0.0166441211    -0.2494526934    \n",
            "\n",
            "0.5102056655    -0.4788005261    0.4601896578    1.1469029916    1.0058876801    0.1306849932    1.0311885122    1.9142635995    \n",
            "\n",
            "1.3144008253    2.2337275873    -0.5889562573    0.8807236646    0.6241317143    -0.2383341345    0.6782459337    1.7535971647    \n",
            "\n",
            "2.9041932310    0.8898965867    2.9051710649    0.6802549018    1.7341647954    1.1262326574    2.6800755522    1.4185566421    \n",
            "\n",
            "0.2185561584    -0.3204479030    0.0921123024    0.7660745888    0.1129825050    -1.4024212514    0.2316211112    -0.4949409327    \n",
            "\n",
            "4.3452705866    1.7371205415    2.8358347880    3.6275541179    1.4049827330    1.3510369704    1.8728594402    2.1095126541    \n",
            "\n"
          ]
        }
      ]
    },
    {
      "cell_type": "code",
      "source": [],
      "metadata": {
        "id": "E7NekPX2wWeP"
      },
      "execution_count": null,
      "outputs": []
    }
  ]
}